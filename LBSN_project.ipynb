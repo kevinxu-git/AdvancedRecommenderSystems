{
 "cells": [
  {
   "cell_type": "markdown",
   "metadata": {
    "colab_type": "text",
    "id": "xiwvUjXYMKuY"
   },
   "source": [
    "<h1 align='center'>LBSN Project</h1>\n",
    "\n",
    "<h4 align='center'>Author : Pierre ADEIKALAM, Guangyue CHEN, Kevin XU</h4>"
   ]
  },
  {
   "cell_type": "markdown",
   "metadata": {
    "colab_type": "text",
    "id": "XJ8IpxkbGJ6R"
   },
   "source": [
    "# Table of content\n",
    "\n",
    "[1. Introduction](#introduction)<br>\n",
    "[2. Processing of the Dataset](#processdata)<br>\n",
    "[3. Geographical Computations](#geocomp)<br>\n",
    "[4. Social computations](#socialcomp)<br>\n",
    "[5. Generate & Test Recommendations](#genetest)<br>"
   ]
  },
  {
   "cell_type": "markdown",
   "metadata": {
    "colab_type": "text",
    "id": "iT-IUHrXMVhJ"
   },
   "source": [
    "# Some imports"
   ]
  },
  {
   "cell_type": "code",
   "execution_count": 10,
   "metadata": {
    "colab": {
     "base_uri": "https://localhost:8080/",
     "height": 102
    },
    "colab_type": "code",
    "id": "m370UcWN2JQH",
    "outputId": "c3897454-31a1-4229-d80a-2770646fd1f9"
   },
   "outputs": [
    {
     "name": "stdout",
     "output_type": "stream",
     "text": [
      "Requirement already satisfied: scikit-surprise in /usr/local/lib/python3.6/dist-packages (1.1.0)\n",
      "Requirement already satisfied: numpy>=1.11.2 in /usr/local/lib/python3.6/dist-packages (from scikit-surprise) (1.18.2)\n",
      "Requirement already satisfied: scipy>=1.0.0 in /usr/local/lib/python3.6/dist-packages (from scikit-surprise) (1.4.1)\n",
      "Requirement already satisfied: joblib>=0.11 in /usr/local/lib/python3.6/dist-packages (from scikit-surprise) (0.14.1)\n",
      "Requirement already satisfied: six>=1.10.0 in /usr/local/lib/python3.6/dist-packages (from scikit-surprise) (1.12.0)\n"
     ]
    }
   ],
   "source": [
    "colab = True\n",
    "if colab:\n",
    "    !pip install scikit-surprise\n",
    "    from google_drive_downloader import GoogleDriveDownloader as gdd\n",
    "    gdd.download_file_from_google_drive(file_id='1scymDaABRjt8IWP4hlD6uLdg0nVXzi3E', dest_path='./gowalla.zip')\n",
    "\n",
    "    from zipfile import ZipFile\n",
    "    with ZipFile('gowalla.zip', 'r') as zipObj:\n",
    "        # Extract all the contents of zip file in current directory\n",
    "        zipObj.extractall()"
   ]
  },
  {
   "cell_type": "code",
   "execution_count": 0,
   "metadata": {
    "colab": {},
    "colab_type": "code",
    "id": "6Uer1CPYGJ6W"
   },
   "outputs": [],
   "source": [
    "# import\n",
    "%matplotlib inline\n",
    "import matplotlib.pyplot as plt\n",
    "import numpy as np\n",
    "import pandas as pd\n",
    "import random\n",
    "\n",
    "from surprise import Dataset\n",
    "from surprise import Reader\n",
    "from surprise.model_selection.split import train_test_split\n",
    "from surprise import AlgoBase\n",
    "from surprise import PredictionImpossible\n",
    "from surprise.model_selection import cross_validate\n",
    "\n",
    "from tqdm.notebook import tqdm"
   ]
  },
  {
   "cell_type": "markdown",
   "metadata": {
    "colab_type": "text",
    "id": "bSlQ7zA8GJ6s"
   },
   "source": [
    "<a id='intro'></a>\n",
    "# 1. Introduction\n",
    "\n",
    "The purpose of this project is to implement a location-based recommender system from regular location-based social network (LBSN) data. Usually LBSN data give precise information regarding the locations visited by the users. These data also reveal who are the friends of the users. These two information (geographical + social) can be exploited into a standard collaborative filtering approach. At the end of this project we have all the building blocks of the model iGSLR, a geo-social location recommendation model."
   ]
  },
  {
   "cell_type": "markdown",
   "metadata": {
    "colab_type": "text",
    "id": "JDQLXSzIGJ6z"
   },
   "source": [
    "<a id='processdata'></a>\n",
    "# 2. Processing of the Dataset"
   ]
  },
  {
   "cell_type": "code",
   "execution_count": 0,
   "metadata": {
    "colab": {},
    "colab_type": "code",
    "id": "z9zgc6Xqlq2h"
   },
   "outputs": [],
   "source": [
    "min_num_checkins = 10 # 5"
   ]
  },
  {
   "cell_type": "markdown",
   "metadata": {
    "colab_type": "text",
    "id": "zYhMwevtGJ63"
   },
   "source": [
    "## 2.1 Import data"
   ]
  },
  {
   "cell_type": "code",
   "execution_count": 0,
   "metadata": {
    "colab": {},
    "colab_type": "code",
    "id": "FRUUifGwGJ7I"
   },
   "outputs": [],
   "source": [
    "checkins = pd.read_csv('gowalla/gowalla_checkins.csv')\n",
    "locations = pd.read_csv('gowalla/gowalla_locations.csv')\n",
    "friendship = pd.read_csv('gowalla/gowalla_friendship.csv')\n",
    "userinfo = pd.read_csv('gowalla/gowalla_userinfo.csv')"
   ]
  },
  {
   "cell_type": "code",
   "execution_count": 14,
   "metadata": {
    "colab": {
     "base_uri": "https://localhost:8080/",
     "height": 85
    },
    "colab_type": "code",
    "id": "5wDYAfqxGJ7R",
    "outputId": "06fb026e-79a8-4f8a-91ef-a4609e01c04b"
   },
   "outputs": [
    {
     "name": "stdout",
     "output_type": "stream",
     "text": [
      "(36001959, 2)\n",
      "(4418339, 2)\n",
      "(2724891, 5)\n",
      "(407533, 3)\n"
     ]
    }
   ],
   "source": [
    "# Reduce original size by k\n",
    "k = 1\n",
    "userinfo = userinfo.iloc[::k]\n",
    "\n",
    "for db in [checkins, friendship, locations, userinfo]:\n",
    "    print(db.shape)"
   ]
  },
  {
   "cell_type": "code",
   "execution_count": 15,
   "metadata": {
    "colab": {
     "base_uri": "https://localhost:8080/",
     "height": 191
    },
    "colab_type": "code",
    "id": "kPimSmc3GJ7Y",
    "outputId": "3eaaa2fc-8c9f-4e57-a0ab-ae20da205abe",
    "scrolled": true
   },
   "outputs": [
    {
     "data": {
      "text/html": [
       "<div style=\"float: left; padding: 10px;\">\n",
       "    <p style='font-family:\"Courier New\", Courier, monospace'>checkins.head(3)</p><div>\n",
       "<style scoped>\n",
       "    .dataframe tbody tr th:only-of-type {\n",
       "        vertical-align: middle;\n",
       "    }\n",
       "\n",
       "    .dataframe tbody tr th {\n",
       "        vertical-align: top;\n",
       "    }\n",
       "\n",
       "    .dataframe thead th {\n",
       "        text-align: right;\n",
       "    }\n",
       "</style>\n",
       "<table border=\"1\" class=\"dataframe\">\n",
       "  <thead>\n",
       "    <tr style=\"text-align: right;\">\n",
       "      <th></th>\n",
       "      <th>userid</th>\n",
       "      <th>placeid</th>\n",
       "    </tr>\n",
       "  </thead>\n",
       "  <tbody>\n",
       "    <tr>\n",
       "      <th>0</th>\n",
       "      <td>1338</td>\n",
       "      <td>482954</td>\n",
       "    </tr>\n",
       "    <tr>\n",
       "      <th>1</th>\n",
       "      <td>1338</td>\n",
       "      <td>580963</td>\n",
       "    </tr>\n",
       "    <tr>\n",
       "      <th>2</th>\n",
       "      <td>1338</td>\n",
       "      <td>365256</td>\n",
       "    </tr>\n",
       "  </tbody>\n",
       "</table>\n",
       "</div>\n",
       "    </div>\n",
       "<div style=\"float: left; padding: 10px;\">\n",
       "    <p style='font-family:\"Courier New\", Courier, monospace'>locations.head(3)</p><div>\n",
       "<style scoped>\n",
       "    .dataframe tbody tr th:only-of-type {\n",
       "        vertical-align: middle;\n",
       "    }\n",
       "\n",
       "    .dataframe tbody tr th {\n",
       "        vertical-align: top;\n",
       "    }\n",
       "\n",
       "    .dataframe thead th {\n",
       "        text-align: right;\n",
       "    }\n",
       "</style>\n",
       "<table border=\"1\" class=\"dataframe\">\n",
       "  <thead>\n",
       "    <tr style=\"text-align: right;\">\n",
       "      <th></th>\n",
       "      <th>id</th>\n",
       "      <th>lng</th>\n",
       "      <th>lat</th>\n",
       "      <th>checkins_count</th>\n",
       "      <th>users_count</th>\n",
       "    </tr>\n",
       "  </thead>\n",
       "  <tbody>\n",
       "    <tr>\n",
       "      <th>0</th>\n",
       "      <td>8904</td>\n",
       "      <td>-94.607499</td>\n",
       "      <td>39.052318</td>\n",
       "      <td>114</td>\n",
       "      <td>21</td>\n",
       "    </tr>\n",
       "    <tr>\n",
       "      <th>1</th>\n",
       "      <td>8932</td>\n",
       "      <td>-97.254356</td>\n",
       "      <td>32.927662</td>\n",
       "      <td>67</td>\n",
       "      <td>48</td>\n",
       "    </tr>\n",
       "    <tr>\n",
       "      <th>2</th>\n",
       "      <td>8936</td>\n",
       "      <td>-94.591995</td>\n",
       "      <td>39.053318</td>\n",
       "      <td>75</td>\n",
       "      <td>46</td>\n",
       "    </tr>\n",
       "  </tbody>\n",
       "</table>\n",
       "</div>\n",
       "    </div>\n",
       "<div style=\"float: left; padding: 10px;\">\n",
       "    <p style='font-family:\"Courier New\", Courier, monospace'>friendship.head(3)</p><div>\n",
       "<style scoped>\n",
       "    .dataframe tbody tr th:only-of-type {\n",
       "        vertical-align: middle;\n",
       "    }\n",
       "\n",
       "    .dataframe tbody tr th {\n",
       "        vertical-align: top;\n",
       "    }\n",
       "\n",
       "    .dataframe thead th {\n",
       "        text-align: right;\n",
       "    }\n",
       "</style>\n",
       "<table border=\"1\" class=\"dataframe\">\n",
       "  <thead>\n",
       "    <tr style=\"text-align: right;\">\n",
       "      <th></th>\n",
       "      <th>userid1</th>\n",
       "      <th>userid2</th>\n",
       "    </tr>\n",
       "  </thead>\n",
       "  <tbody>\n",
       "    <tr>\n",
       "      <th>0</th>\n",
       "      <td>1</td>\n",
       "      <td>63488</td>\n",
       "    </tr>\n",
       "    <tr>\n",
       "      <th>1</th>\n",
       "      <td>1</td>\n",
       "      <td>2</td>\n",
       "    </tr>\n",
       "    <tr>\n",
       "      <th>2</th>\n",
       "      <td>1</td>\n",
       "      <td>3</td>\n",
       "    </tr>\n",
       "  </tbody>\n",
       "</table>\n",
       "</div>\n",
       "    </div>\n",
       "<div style=\"float: left; padding: 10px;\">\n",
       "    <p style='font-family:\"Courier New\", Courier, monospace'>userinfo.head(3)</p><div>\n",
       "<style scoped>\n",
       "    .dataframe tbody tr th:only-of-type {\n",
       "        vertical-align: middle;\n",
       "    }\n",
       "\n",
       "    .dataframe tbody tr th {\n",
       "        vertical-align: top;\n",
       "    }\n",
       "\n",
       "    .dataframe thead th {\n",
       "        text-align: right;\n",
       "    }\n",
       "</style>\n",
       "<table border=\"1\" class=\"dataframe\">\n",
       "  <thead>\n",
       "    <tr style=\"text-align: right;\">\n",
       "      <th></th>\n",
       "      <th>id</th>\n",
       "      <th>friends_count</th>\n",
       "      <th>checkin_num</th>\n",
       "    </tr>\n",
       "  </thead>\n",
       "  <tbody>\n",
       "    <tr>\n",
       "      <th>0</th>\n",
       "      <td>1</td>\n",
       "      <td>372</td>\n",
       "      <td>1766</td>\n",
       "    </tr>\n",
       "    <tr>\n",
       "      <th>1</th>\n",
       "      <td>2</td>\n",
       "      <td>775</td>\n",
       "      <td>2892</td>\n",
       "    </tr>\n",
       "    <tr>\n",
       "      <th>2</th>\n",
       "      <td>3</td>\n",
       "      <td>100</td>\n",
       "      <td>3021</td>\n",
       "    </tr>\n",
       "  </tbody>\n",
       "</table>\n",
       "</div>\n",
       "    </div>"
      ],
      "text/plain": [
       "checkins.head(3)\n",
       "   userid  placeid\n",
       "0    1338   482954\n",
       "1    1338   580963\n",
       "2    1338   365256\n",
       "\n",
       "locations.head(3)\n",
       "     id        lng        lat  checkins_count  users_count\n",
       "0  8904 -94.607499  39.052318             114           21\n",
       "1  8932 -97.254356  32.927662              67           48\n",
       "2  8936 -94.591995  39.053318              75           46\n",
       "\n",
       "friendship.head(3)\n",
       "   userid1  userid2\n",
       "0        1    63488\n",
       "1        1        2\n",
       "2        1        3\n",
       "\n",
       "userinfo.head(3)\n",
       "   id  friends_count  checkin_num\n",
       "0   1            372         1766\n",
       "1   2            775         2892\n",
       "2   3            100         3021"
      ]
     },
     "execution_count": 15,
     "metadata": {
      "tags": []
     },
     "output_type": "execute_result"
    }
   ],
   "source": [
    "class display(object):\n",
    "    \"\"\"Display HTML representation of multiple objects\"\"\"\n",
    "    template = \"\"\"<div style=\"float: left; padding: 10px;\">\n",
    "    <p style='font-family:\"Courier New\", Courier, monospace'>{0}</p>{1}\n",
    "    </div>\"\"\"\n",
    "    def __init__(self, *args):\n",
    "        self.args = args\n",
    "        \n",
    "    def _repr_html_(self):\n",
    "        return '\\n'.join(self.template.format(a, eval(a)._repr_html_())\n",
    "                         for a in self.args)\n",
    "    \n",
    "    def __repr__(self):\n",
    "        return '\\n\\n'.join(a + '\\n' + repr(eval(a))\n",
    "                           for a in self.args)\n",
    "display('checkins.head(3)', 'locations.head(3)', 'friendship.head(3)', 'userinfo.head(3)')"
   ]
  },
  {
   "cell_type": "markdown",
   "metadata": {
    "colab_type": "text",
    "id": "Jx6sy_iRGJ7i"
   },
   "source": [
    "## 2.2 Creation of additional DataFrames"
   ]
  },
  {
   "cell_type": "code",
   "execution_count": 16,
   "metadata": {
    "colab": {
     "base_uri": "https://localhost:8080/",
     "height": 419
    },
    "colab_type": "code",
    "id": "8e1y6ZpsGJ7l",
    "outputId": "ef014b28-10c2-427b-d673-5661384c571f",
    "scrolled": true
   },
   "outputs": [
    {
     "data": {
      "text/html": [
       "<div>\n",
       "<style scoped>\n",
       "    .dataframe tbody tr th:only-of-type {\n",
       "        vertical-align: middle;\n",
       "    }\n",
       "\n",
       "    .dataframe tbody tr th {\n",
       "        vertical-align: top;\n",
       "    }\n",
       "\n",
       "    .dataframe thead th {\n",
       "        text-align: right;\n",
       "    }\n",
       "</style>\n",
       "<table border=\"1\" class=\"dataframe\">\n",
       "  <thead>\n",
       "    <tr style=\"text-align: right;\">\n",
       "      <th></th>\n",
       "      <th>id</th>\n",
       "      <th>friends_count</th>\n",
       "      <th>checkin_num</th>\n",
       "    </tr>\n",
       "  </thead>\n",
       "  <tbody>\n",
       "    <tr>\n",
       "      <th>0</th>\n",
       "      <td>1</td>\n",
       "      <td>372</td>\n",
       "      <td>1766</td>\n",
       "    </tr>\n",
       "    <tr>\n",
       "      <th>1</th>\n",
       "      <td>2</td>\n",
       "      <td>775</td>\n",
       "      <td>2892</td>\n",
       "    </tr>\n",
       "    <tr>\n",
       "      <th>2</th>\n",
       "      <td>3</td>\n",
       "      <td>100</td>\n",
       "      <td>3021</td>\n",
       "    </tr>\n",
       "    <tr>\n",
       "      <th>3</th>\n",
       "      <td>4</td>\n",
       "      <td>179</td>\n",
       "      <td>1325</td>\n",
       "    </tr>\n",
       "    <tr>\n",
       "      <th>4</th>\n",
       "      <td>5</td>\n",
       "      <td>525</td>\n",
       "      <td>3215</td>\n",
       "    </tr>\n",
       "    <tr>\n",
       "      <th>...</th>\n",
       "      <td>...</td>\n",
       "      <td>...</td>\n",
       "      <td>...</td>\n",
       "    </tr>\n",
       "    <tr>\n",
       "      <th>199283</th>\n",
       "      <td>2688261</td>\n",
       "      <td>2</td>\n",
       "      <td>12</td>\n",
       "    </tr>\n",
       "    <tr>\n",
       "      <th>199284</th>\n",
       "      <td>2688369</td>\n",
       "      <td>7</td>\n",
       "      <td>16</td>\n",
       "    </tr>\n",
       "    <tr>\n",
       "      <th>199285</th>\n",
       "      <td>2688642</td>\n",
       "      <td>1</td>\n",
       "      <td>11</td>\n",
       "    </tr>\n",
       "    <tr>\n",
       "      <th>199286</th>\n",
       "      <td>2688873</td>\n",
       "      <td>1</td>\n",
       "      <td>13</td>\n",
       "    </tr>\n",
       "    <tr>\n",
       "      <th>199287</th>\n",
       "      <td>2688969</td>\n",
       "      <td>1</td>\n",
       "      <td>21</td>\n",
       "    </tr>\n",
       "  </tbody>\n",
       "</table>\n",
       "<p>199288 rows × 3 columns</p>\n",
       "</div>"
      ],
      "text/plain": [
       "             id  friends_count  checkin_num\n",
       "0             1            372         1766\n",
       "1             2            775         2892\n",
       "2             3            100         3021\n",
       "3             4            179         1325\n",
       "4             5            525         3215\n",
       "...         ...            ...          ...\n",
       "199283  2688261              2           12\n",
       "199284  2688369              7           16\n",
       "199285  2688642              1           11\n",
       "199286  2688873              1           13\n",
       "199287  2688969              1           21\n",
       "\n",
       "[199288 rows x 3 columns]"
      ]
     },
     "execution_count": 16,
     "metadata": {
      "tags": []
     },
     "output_type": "execute_result"
    }
   ],
   "source": [
    "# Filter users who have less than min_num_checkins check-ins in total\n",
    "mask_filter_user = userinfo.set_index('id')['checkin_num'] > min_num_checkins\n",
    "userinfo = userinfo.set_index('id')[mask_filter_user].reset_index()\n",
    "userinfo"
   ]
  },
  {
   "cell_type": "code",
   "execution_count": 17,
   "metadata": {
    "colab": {
     "base_uri": "https://localhost:8080/",
     "height": 359
    },
    "colab_type": "code",
    "id": "D6l2Y8HmGJ7p",
    "outputId": "3b2082a5-9a24-4929-b4e3-54bf6feaabe5",
    "scrolled": false
   },
   "outputs": [
    {
     "data": {
      "text/html": [
       "<div>\n",
       "<style scoped>\n",
       "    .dataframe tbody tr th:only-of-type {\n",
       "        vertical-align: middle;\n",
       "    }\n",
       "\n",
       "    .dataframe tbody tr th {\n",
       "        vertical-align: top;\n",
       "    }\n",
       "\n",
       "    .dataframe thead th {\n",
       "        text-align: right;\n",
       "    }\n",
       "</style>\n",
       "<table border=\"1\" class=\"dataframe\">\n",
       "  <thead>\n",
       "    <tr style=\"text-align: right;\">\n",
       "      <th></th>\n",
       "      <th>userid</th>\n",
       "      <th>friendslist</th>\n",
       "    </tr>\n",
       "  </thead>\n",
       "  <tbody>\n",
       "    <tr>\n",
       "      <th>0</th>\n",
       "      <td>1</td>\n",
       "      <td>[63488, 2, 3, 4, 5, 6, 7, 12, 2065, 18, 24, 25...</td>\n",
       "    </tr>\n",
       "    <tr>\n",
       "      <th>1</th>\n",
       "      <td>2</td>\n",
       "      <td>[131140, 1, 55298, 3, 4, 5, 6, 7, 11, 12, 9327...</td>\n",
       "    </tr>\n",
       "    <tr>\n",
       "      <th>2</th>\n",
       "      <td>3</td>\n",
       "      <td>[1, 2, 4, 5, 6, 7, 12, 18, 2315532, 29, 309765...</td>\n",
       "    </tr>\n",
       "    <tr>\n",
       "      <th>3</th>\n",
       "      <td>4</td>\n",
       "      <td>[1, 2, 3, 5, 6, 7, 12, 65553, 18, 24, 25, 29, ...</td>\n",
       "    </tr>\n",
       "    <tr>\n",
       "      <th>4</th>\n",
       "      <td>5</td>\n",
       "      <td>[1, 2, 3, 4, 6, 7, 11, 12, 18, 24, 25, 29, 33,...</td>\n",
       "    </tr>\n",
       "    <tr>\n",
       "      <th>5</th>\n",
       "      <td>6</td>\n",
       "      <td>[1765005, 1, 2, 3, 4, 5, 7, 12, 381453, 18, 88...</td>\n",
       "    </tr>\n",
       "    <tr>\n",
       "      <th>6</th>\n",
       "      <td>7</td>\n",
       "      <td>[1, 2, 3, 4, 5, 6, 3592, 11, 12, 5646, 130576,...</td>\n",
       "    </tr>\n",
       "    <tr>\n",
       "      <th>7</th>\n",
       "      <td>11</td>\n",
       "      <td>[2, 153899, 5, 7, 2696, 208011, 253347, 29329,...</td>\n",
       "    </tr>\n",
       "    <tr>\n",
       "      <th>8</th>\n",
       "      <td>12</td>\n",
       "      <td>[1, 2, 3, 4, 5, 6, 7, 2139144, 15959, 3087, 12...</td>\n",
       "    </tr>\n",
       "    <tr>\n",
       "      <th>9</th>\n",
       "      <td>15</td>\n",
       "      <td>[256, 578, 2819, 136860, 52810, 59307, 2094, 2...</td>\n",
       "    </tr>\n",
       "  </tbody>\n",
       "</table>\n",
       "</div>"
      ],
      "text/plain": [
       "   userid                                        friendslist\n",
       "0       1  [63488, 2, 3, 4, 5, 6, 7, 12, 2065, 18, 24, 25...\n",
       "1       2  [131140, 1, 55298, 3, 4, 5, 6, 7, 11, 12, 9327...\n",
       "2       3  [1, 2, 4, 5, 6, 7, 12, 18, 2315532, 29, 309765...\n",
       "3       4  [1, 2, 3, 5, 6, 7, 12, 65553, 18, 24, 25, 29, ...\n",
       "4       5  [1, 2, 3, 4, 6, 7, 11, 12, 18, 24, 25, 29, 33,...\n",
       "5       6  [1765005, 1, 2, 3, 4, 5, 7, 12, 381453, 18, 88...\n",
       "6       7  [1, 2, 3, 4, 5, 6, 3592, 11, 12, 5646, 130576,...\n",
       "7      11  [2, 153899, 5, 7, 2696, 208011, 253347, 29329,...\n",
       "8      12  [1, 2, 3, 4, 5, 6, 7, 2139144, 15959, 3087, 12...\n",
       "9      15  [256, 578, 2819, 136860, 52810, 59307, 2094, 2..."
      ]
     },
     "execution_count": 17,
     "metadata": {
      "tags": []
     },
     "output_type": "execute_result"
    }
   ],
   "source": [
    "# Associate to each user the list of his friends\n",
    "friendship = friendship[friendship['userid1'].isin(userinfo['id']) & friendship['userid2'].isin(userinfo['id'])] # Keep only users in userinfo\n",
    "df_user_friends = friendship.groupby('userid1')['userid2'].apply(list).reset_index()\n",
    "df_user_friends.columns = ['userid', 'friendslist']\n",
    "df_user_friends.head(10)"
   ]
  },
  {
   "cell_type": "code",
   "execution_count": 18,
   "metadata": {
    "colab": {
     "base_uri": "https://localhost:8080/",
     "height": 419
    },
    "colab_type": "code",
    "id": "M2-_uNG3GJ71",
    "outputId": "754f922a-af7a-44b3-cd61-17c3b5d6a457"
   },
   "outputs": [
    {
     "data": {
      "text/html": [
       "<div>\n",
       "<style scoped>\n",
       "    .dataframe tbody tr th:only-of-type {\n",
       "        vertical-align: middle;\n",
       "    }\n",
       "\n",
       "    .dataframe tbody tr th {\n",
       "        vertical-align: top;\n",
       "    }\n",
       "\n",
       "    .dataframe thead th {\n",
       "        text-align: right;\n",
       "    }\n",
       "</style>\n",
       "<table border=\"1\" class=\"dataframe\">\n",
       "  <thead>\n",
       "    <tr style=\"text-align: right;\">\n",
       "      <th></th>\n",
       "      <th>userid</th>\n",
       "      <th>locationslist</th>\n",
       "    </tr>\n",
       "  </thead>\n",
       "  <tbody>\n",
       "    <tr>\n",
       "      <th>0</th>\n",
       "      <td>1</td>\n",
       "      <td>[34817, 88067, 681993, 40971, 16397, 12305, 10...</td>\n",
       "    </tr>\n",
       "    <tr>\n",
       "      <th>1</th>\n",
       "      <td>2</td>\n",
       "      <td>[88066, 20486, 182280, 90121, 681993, 40971, 1...</td>\n",
       "    </tr>\n",
       "    <tr>\n",
       "      <th>2</th>\n",
       "      <td>3</td>\n",
       "      <td>[10244, 663558, 10246, 30728, 702472, 7047178,...</td>\n",
       "    </tr>\n",
       "    <tr>\n",
       "      <th>3</th>\n",
       "      <td>4</td>\n",
       "      <td>[32769, 10244, 663558, 681993, 32778, 40971, 1...</td>\n",
       "    </tr>\n",
       "    <tr>\n",
       "      <th>4</th>\n",
       "      <td>5</td>\n",
       "      <td>[88066, 10244, 22535, 681993, 40971, 24587, 18...</td>\n",
       "    </tr>\n",
       "    <tr>\n",
       "      <th>...</th>\n",
       "      <td>...</td>\n",
       "      <td>...</td>\n",
       "    </tr>\n",
       "    <tr>\n",
       "      <th>199283</th>\n",
       "      <td>2688261</td>\n",
       "      <td>[6897828, 5250220, 7534156, 6195919, 874641, 7...</td>\n",
       "    </tr>\n",
       "    <tr>\n",
       "      <th>199284</th>\n",
       "      <td>2688369</td>\n",
       "      <td>[7541633, 7531746, 7538150, 7544615, 7538471, ...</td>\n",
       "    </tr>\n",
       "    <tr>\n",
       "      <th>199285</th>\n",
       "      <td>2688642</td>\n",
       "      <td>[7539298, 7534250, 317292, 6584749, 4902767]</td>\n",
       "    </tr>\n",
       "    <tr>\n",
       "      <th>199286</th>\n",
       "      <td>2688873</td>\n",
       "      <td>[7548381, 1466807, 1428136, 7538414, 414030, 7...</td>\n",
       "    </tr>\n",
       "    <tr>\n",
       "      <th>199287</th>\n",
       "      <td>2688969</td>\n",
       "      <td>[7538565, 289896, 304266, 7466667, 7543852, 17...</td>\n",
       "    </tr>\n",
       "  </tbody>\n",
       "</table>\n",
       "<p>199288 rows × 2 columns</p>\n",
       "</div>"
      ],
      "text/plain": [
       "         userid                                      locationslist\n",
       "0             1  [34817, 88067, 681993, 40971, 16397, 12305, 10...\n",
       "1             2  [88066, 20486, 182280, 90121, 681993, 40971, 1...\n",
       "2             3  [10244, 663558, 10246, 30728, 702472, 7047178,...\n",
       "3             4  [32769, 10244, 663558, 681993, 32778, 40971, 1...\n",
       "4             5  [88066, 10244, 22535, 681993, 40971, 24587, 18...\n",
       "...         ...                                                ...\n",
       "199283  2688261  [6897828, 5250220, 7534156, 6195919, 874641, 7...\n",
       "199284  2688369  [7541633, 7531746, 7538150, 7544615, 7538471, ...\n",
       "199285  2688642       [7539298, 7534250, 317292, 6584749, 4902767]\n",
       "199286  2688873  [7548381, 1466807, 1428136, 7538414, 414030, 7...\n",
       "199287  2688969  [7538565, 289896, 304266, 7466667, 7543852, 17...\n",
       "\n",
       "[199288 rows x 2 columns]"
      ]
     },
     "execution_count": 18,
     "metadata": {
      "tags": []
     },
     "output_type": "execute_result"
    }
   ],
   "source": [
    "# Associate to each user the list of locations he visited\n",
    "df_user_locations = checkins.groupby('userid')['placeid'].apply(lambda x: list(set(x))).reset_index(name='locationslist')\n",
    "df_user_locations = userinfo.merge(df_user_locations, left_on='id', right_on='userid', how='left')[['userid', 'locationslist']]\n",
    "df_user_locations"
   ]
  },
  {
   "cell_type": "code",
   "execution_count": 19,
   "metadata": {
    "colab": {
     "base_uri": "https://localhost:8080/",
     "height": 419
    },
    "colab_type": "code",
    "id": "1DH323I-GJ79",
    "outputId": "cfc6455f-e53c-45ad-e8f3-4b7da931930b",
    "scrolled": false
   },
   "outputs": [
    {
     "data": {
      "text/html": [
       "<div>\n",
       "<style scoped>\n",
       "    .dataframe tbody tr th:only-of-type {\n",
       "        vertical-align: middle;\n",
       "    }\n",
       "\n",
       "    .dataframe tbody tr th {\n",
       "        vertical-align: top;\n",
       "    }\n",
       "\n",
       "    .dataframe thead th {\n",
       "        text-align: right;\n",
       "    }\n",
       "</style>\n",
       "<table border=\"1\" class=\"dataframe\">\n",
       "  <thead>\n",
       "    <tr style=\"text-align: right;\">\n",
       "      <th></th>\n",
       "      <th>userid</th>\n",
       "      <th>placeid</th>\n",
       "      <th>frequency</th>\n",
       "    </tr>\n",
       "  </thead>\n",
       "  <tbody>\n",
       "    <tr>\n",
       "      <th>0</th>\n",
       "      <td>1</td>\n",
       "      <td>8904</td>\n",
       "      <td>72</td>\n",
       "    </tr>\n",
       "    <tr>\n",
       "      <th>1</th>\n",
       "      <td>1</td>\n",
       "      <td>8938</td>\n",
       "      <td>11</td>\n",
       "    </tr>\n",
       "    <tr>\n",
       "      <th>2</th>\n",
       "      <td>1</td>\n",
       "      <td>8947</td>\n",
       "      <td>12</td>\n",
       "    </tr>\n",
       "    <tr>\n",
       "      <th>3</th>\n",
       "      <td>1</td>\n",
       "      <td>8956</td>\n",
       "      <td>1</td>\n",
       "    </tr>\n",
       "    <tr>\n",
       "      <th>4</th>\n",
       "      <td>1</td>\n",
       "      <td>8957</td>\n",
       "      <td>1</td>\n",
       "    </tr>\n",
       "    <tr>\n",
       "      <th>...</th>\n",
       "      <td>...</td>\n",
       "      <td>...</td>\n",
       "      <td>...</td>\n",
       "    </tr>\n",
       "    <tr>\n",
       "      <th>19096080</th>\n",
       "      <td>2688969</td>\n",
       "      <td>7450619</td>\n",
       "      <td>9</td>\n",
       "    </tr>\n",
       "    <tr>\n",
       "      <th>19096081</th>\n",
       "      <td>2688969</td>\n",
       "      <td>7466667</td>\n",
       "      <td>1</td>\n",
       "    </tr>\n",
       "    <tr>\n",
       "      <th>19096082</th>\n",
       "      <td>2688969</td>\n",
       "      <td>7538565</td>\n",
       "      <td>4</td>\n",
       "    </tr>\n",
       "    <tr>\n",
       "      <th>19096083</th>\n",
       "      <td>2688969</td>\n",
       "      <td>7543852</td>\n",
       "      <td>1</td>\n",
       "    </tr>\n",
       "    <tr>\n",
       "      <th>19096084</th>\n",
       "      <td>2688969</td>\n",
       "      <td>7544467</td>\n",
       "      <td>1</td>\n",
       "    </tr>\n",
       "  </tbody>\n",
       "</table>\n",
       "<p>19096085 rows × 3 columns</p>\n",
       "</div>"
      ],
      "text/plain": [
       "           userid  placeid  frequency\n",
       "0               1     8904         72\n",
       "1               1     8938         11\n",
       "2               1     8947         12\n",
       "3               1     8956          1\n",
       "4               1     8957          1\n",
       "...           ...      ...        ...\n",
       "19096080  2688969  7450619          9\n",
       "19096081  2688969  7466667          1\n",
       "19096082  2688969  7538565          4\n",
       "19096083  2688969  7543852          1\n",
       "19096084  2688969  7544467          1\n",
       "\n",
       "[19096085 rows x 3 columns]"
      ]
     },
     "execution_count": 19,
     "metadata": {
      "tags": []
     },
     "output_type": "execute_result"
    }
   ],
   "source": [
    "# Visit frequency and transformation\n",
    "df_frequencies = checkins.groupby(['userid', 'placeid'])['placeid'].count().reset_index(name ='frequency')\n",
    "df_frequencies = userinfo.merge(df_frequencies, left_on='id', right_on='userid', how='left')[['userid', 'placeid', 'frequency']]\n",
    "df_frequencies"
   ]
  },
  {
   "cell_type": "code",
   "execution_count": 0,
   "metadata": {
    "colab": {},
    "colab_type": "code",
    "id": "rTuuRM-sGJ8A"
   },
   "outputs": [],
   "source": [
    "def frequency_normalization(x, fmin, fmax):\n",
    "    \"\"\" \n",
    "    Normalize the frequency x into the range [0, 10].\n",
    "    \n",
    "    Parameters:\n",
    "    ----------\n",
    "    x : float\n",
    "        The value to be normalized.\n",
    "    fmin : float\n",
    "        The minimum visit frequency of the dataset.\n",
    "    fmax : float\n",
    "        The maximum visit frequency of the dataset.\n",
    "    \n",
    "    Returns:\n",
    "    -------\n",
    "    x_new : float\n",
    "        The normalized value of x.\n",
    "    \"\"\"\n",
    "    return 10 * np.tanh(10 * (x - fmin) / (fmax - fmin))\n",
    "\n",
    "fmin = df_frequencies['frequency'].min()\n",
    "fmax = df_frequencies['frequency'].max()\n",
    "\n",
    "df_frequencies['frequency'] = df_frequencies['frequency'].apply(frequency_normalization, fmin=fmin, fmax=fmax)"
   ]
  },
  {
   "cell_type": "code",
   "execution_count": 0,
   "metadata": {
    "colab": {},
    "colab_type": "code",
    "id": "xP41K9iAGJ8E"
   },
   "outputs": [],
   "source": [
    "reader = Reader(rating_scale=(0, 10))\n",
    "df_frequencies_new = Dataset.load_from_df(df_frequencies, reader)\n",
    "\n",
    "# Split data\n",
    "X_train, X_test = train_test_split(\n",
    "    df_frequencies_new, test_size=0.25, random_state=42\n",
    ")"
   ]
  },
  {
   "cell_type": "markdown",
   "metadata": {
    "colab_type": "text",
    "id": "gGbwXyO1GJ8N"
   },
   "source": [
    "<a id='geocomp'></a>\n",
    "# 3. Geographical Computations"
   ]
  },
  {
   "cell_type": "code",
   "execution_count": 0,
   "metadata": {
    "colab": {},
    "colab_type": "code",
    "id": "iqWk4G61GJ8O"
   },
   "outputs": [],
   "source": [
    " def normal_kernel(x):\n",
    "    \"\"\"\n",
    "    Computes the normal kernel function with fixed bandwith at a given point x.\n",
    "\n",
    "    Parameters:\n",
    "    ----------\n",
    "    x : float\n",
    "        Point to evaluate\n",
    "    \n",
    "    Returns:\n",
    "    -------\n",
    "    y : float\n",
    "    \"\"\"\n",
    "    return np.exp(-x**2/2)/np.sqrt(2*np.pi)\n",
    "\n",
    "def density(x, distances):\n",
    "    \"\"\"\n",
    "    Computes the density at point x of a specific user given an array of distances between the locations\n",
    "    the user has visited.\n",
    "\n",
    "    Parameters: \n",
    "    ----------\n",
    "    x : float\n",
    "        Point to evaluate.\n",
    "\n",
    "    distances : numpy array of distances.\n",
    "    \n",
    "    Returns:\n",
    "    ----------\n",
    "    density : float\n",
    "        The density of x.\n",
    "    \"\"\"\n",
    "\n",
    "    sigma = distances.std() # standard deviation of the distances\n",
    "    n = len(distances)**0.5         # d is of length n**2\n",
    "    h = 1.06 * sigma * (n**(-1/5))\n",
    "\n",
    "    normalizing_constant = (len(distances) * h)\n",
    "    density = normal_kernel((x - distances)/h).sum()\n",
    "    return density / normalizing_constant\n",
    "\n",
    "def distance_between_locations(location1, location2):\n",
    "    \"\"\"\n",
    "    Computes the l2 distance between two locations given their geographical coordinates.\n",
    "\n",
    "    Parameters:\n",
    "    ----------\n",
    "    location1, location2 : tuple (x, y) of geographical coordinates.\n",
    "    \n",
    "    Returns:\n",
    "    ----------\n",
    "    distance : float\n",
    "    \"\"\"\n",
    "    dx = (location1[0] - location2[0])**2\n",
    "    dy = (location1[1] - location2[1])**2\n",
    "    distance = np.sqrt(dx + dy)\n",
    "\n",
    "    return distance\n",
    "\n",
    "def geo_proba(locations, new_location):\n",
    "    \"\"\"\n",
    "    Geographical likelihood that a user will visit a new location given the locations they\n",
    "    have visited.\n",
    "\n",
    "    Parameters:\n",
    "    ----------\n",
    "    locations: list of locations the user has visited. Each entry of the list is a tuple giving\n",
    "             the geographical coordinates of the location.\n",
    "\n",
    "    new_location : a tuple of geographical coordinates of a new location.\n",
    "    \"\"\"\n",
    "    # print(\"Number of location visited by the current user :\", len(locations))\n",
    "\n",
    "    # Sample the visited locations\n",
    "    if len(locations) > max_visited_locations:\n",
    "        locations = random.sample(list(locations), max_visited_locations)\n",
    "\n",
    "    densities = np.zeros(len(locations))\n",
    "    distances = [distance_between_locations(location1, location2) for location1 in locations for location2 in locations]\n",
    "    distances = np.array(distances)\n",
    "\n",
    "    for i, visited_location in enumerate(locations):\n",
    "        distance_to_new = distance_between_locations(visited_location, new_location)\n",
    "        densities[i] = density(distance_to_new, distances)\n",
    "\n",
    "    return densities.mean()"
   ]
  },
  {
   "cell_type": "code",
   "execution_count": 0,
   "metadata": {
    "colab": {},
    "colab_type": "code",
    "id": "kMmcxTGdGJ8T"
   },
   "outputs": [],
   "source": [
    "# Let's test our functions\n",
    "user = 1\n",
    "\n",
    "# Get the list of locations the user has visited\n",
    "visited_locations_df = locations.set_index('id').loc[df_user_locations.query('userid == @user').values[0, 1]][['lng', 'lat']]\n",
    "visited_locations_list = visited_locations_df.values\n",
    "\n",
    "# Each entry of the list is a tuple giving the geographical coordinates of the location."
   ]
  },
  {
   "cell_type": "code",
   "execution_count": 24,
   "metadata": {
    "colab": {
     "base_uri": "https://localhost:8080/",
     "height": 34
    },
    "colab_type": "code",
    "id": "AnoXhvOhOPYo",
    "outputId": "58472bd9-5be3-48da-ad21-3ab8b060976d"
   },
   "outputs": [
    {
     "data": {
      "text/plain": [
       "0.023264398221923072"
      ]
     },
     "execution_count": 24,
     "metadata": {
      "tags": []
     },
     "output_type": "execute_result"
    }
   ],
   "source": [
    "max_visited_locations = 100\n",
    "\n",
    "geo_proba(visited_locations_list, visited_locations_list[1])"
   ]
  },
  {
   "cell_type": "markdown",
   "metadata": {
    "colab_type": "text",
    "id": "g_QcscxgOvGH"
   },
   "source": [
    "## Number of visited locations by users"
   ]
  },
  {
   "cell_type": "code",
   "execution_count": 25,
   "metadata": {
    "colab": {
     "base_uri": "https://localhost:8080/",
     "height": 221
    },
    "colab_type": "code",
    "id": "WEwD0qbgON-3",
    "outputId": "ac581a82-2b6e-43f7-84ff-80d062b9d030"
   },
   "outputs": [
    {
     "data": {
      "text/plain": [
       "userid\n",
       "213489    34591\n",
       "84414     30569\n",
       "114774    28923\n",
       "76390     25146\n",
       "30603     24854\n",
       "28509     24291\n",
       "9298      20953\n",
       "179386    20503\n",
       "46646     18613\n",
       "470092    17661\n",
       "Name: placeid, dtype: int64"
      ]
     },
     "execution_count": 25,
     "metadata": {
      "tags": []
     },
     "output_type": "execute_result"
    }
   ],
   "source": [
    "locations_count_by_user = df_frequencies.groupby('userid')['placeid'].count()\n",
    "locations_count_by_user.nlargest(10)"
   ]
  },
  {
   "cell_type": "code",
   "execution_count": 26,
   "metadata": {
    "colab": {
     "base_uri": "https://localhost:8080/",
     "height": 34
    },
    "colab_type": "code",
    "id": "E2EE7f1iO2Je",
    "outputId": "eea2040f-72ba-4464-bca9-60a1b2c0cd55"
   },
   "outputs": [
    {
     "data": {
      "text/plain": [
       "0.19915398819798483"
      ]
     },
     "execution_count": 26,
     "metadata": {
      "tags": []
     },
     "output_type": "execute_result"
    }
   ],
   "source": [
    "np.sum(locations_count_by_user > 100)/locations_count_by_user.shape[0]"
   ]
  },
  {
   "cell_type": "markdown",
   "metadata": {
    "colab_type": "text",
    "id": "rGMiSLgLNvzr"
   },
   "source": [
    "> In order to be able to compute the probability for some users, we have to reduce the number of visited locations. Indeed, we notice that a large amount users have visited more than 100 locations. Thus the computation of the distance between each location can require a very long computation time.\n",
    "> \n",
    "> That's why, we sample a fixed number of locations for the users which raise this issue."
   ]
  },
  {
   "cell_type": "markdown",
   "metadata": {
    "colab_type": "text",
    "id": "gdC8NW3pGJ8b"
   },
   "source": [
    "<a id='socialcomp'></a>\n",
    "# 4. Social computations"
   ]
  },
  {
   "cell_type": "code",
   "execution_count": 0,
   "metadata": {
    "colab": {},
    "colab_type": "code",
    "id": "xOzlUZ9JGJ8b",
    "scrolled": true
   },
   "outputs": [],
   "source": [
    "def social_similarity(u, v):\n",
    "    \"\"\" \n",
    "    Compute social similarity score with the Jaccard coefficient.\n",
    "    \n",
    "    Parameters:\n",
    "    ----------\n",
    "    u : int\n",
    "        An raw user id.\n",
    "    v : int\n",
    "        An raw user id.\n",
    "    \n",
    "    Returns:\n",
    "    -------\n",
    "    score : float\n",
    "        The social similarity score between user u and v.\n",
    "    \"\"\"\n",
    "    try:\n",
    "        F_u = set(df_user_friends.query('userid == @u')['friendslist'].tolist()[0])\n",
    "        F_v = set(df_user_friends.query('userid == @v')['friendslist'].tolist()[0])\n",
    "    except:\n",
    "        print('Not valid user id')\n",
    "        return -1\n",
    "    return len(F_u.intersection(F_v)) / len(F_u.union(F_v))"
   ]
  },
  {
   "cell_type": "code",
   "execution_count": 0,
   "metadata": {
    "colab": {},
    "colab_type": "code",
    "id": "fqaYZ1XBSOag"
   },
   "outputs": [],
   "source": [
    "# Compute r_hat prediction\n",
    "def social_rating(i, j, trainset):\n",
    "    \"\"\" \n",
    "    Compute the frequency of user i visiting location j with social information.\n",
    "    \n",
    "    Parameters:\n",
    "    ----------\n",
    "    i : int\n",
    "        An inner user id.\n",
    "    j : int\n",
    "        A inner location id.\n",
    "    trainset : DataFrame\n",
    "        The training set\n",
    "    Returns:\n",
    "    -------\n",
    "    score : float\n",
    "        The frequency\n",
    "    \"\"\"\n",
    "    raw_user_id = trainset.to_raw_uid(i)\n",
    "\n",
    "    F_i = df_user_friends.query('userid == @raw_user_id')['friendslist'].tolist()[0]\n",
    "    F_i = [trainset.to_inner_uid(friend_id) for friend_id in F_i]\n",
    "\n",
    "    location_frequencies = dict(trainset.ir[j])\n",
    "    F_visited_location = set(F_i).intersection(set(location_frequencies.keys()))\n",
    "\n",
    "    num = 0\n",
    "    den = 0\n",
    "    score = 0\n",
    "    \n",
    "    for friend_id in F_visited_location:\n",
    "        # Compute social similarity between the two users\n",
    "        sim = social_similarity(raw_user_id, trainset.to_raw_uid(friend_id))\n",
    "    \n",
    "        # Get the friend's location frequency\n",
    "        r = location_frequencies[friend_id]\n",
    "        num += r * sim\n",
    "        den += sim\n",
    "\n",
    "    if den != 0:\n",
    "        score = num/den\n",
    "    return score"
   ]
  },
  {
   "cell_type": "code",
   "execution_count": 0,
   "metadata": {
    "colab": {},
    "colab_type": "code",
    "id": "LgL3a_8ulEpz"
   },
   "outputs": [],
   "source": [
    "# Compute probability p_hat\n",
    "def social_probability(i, j, trainset):\n",
    "    \"\"\" \n",
    "    Compute the probability of user i visited location j with social information.\n",
    "    \n",
    "    Parameters:\n",
    "    ----------\n",
    "    i : int\n",
    "        A raw user id.\n",
    "    j : int\n",
    "        A raw location id.\n",
    "    trainset : DataFrame\n",
    "        The training set\n",
    "    Returns:\n",
    "    -------\n",
    "    p_hat : float\n",
    "        The probability\n",
    "    \"\"\"\n",
    "    inner_user_id = trainset.to_inner_uid(i)\n",
    "    inner_location_id = trainset.to_inner_iid(j)\n",
    "\n",
    "    try:\n",
    "        F_i = df_user_friends.query('userid == @i')['friendslist'].tolist()[0]\n",
    "    except:\n",
    "        return 0  \n",
    "    F_i = [trainset.to_inner_uid(friend_id) for friend_id in F_i]\n",
    "    user_locations = set(dict(trainset.ur[inner_user_id]).keys())\n",
    "    \n",
    "    location_ids = set()\n",
    "    for friend_i in F_i:\n",
    "        location_ids.update(set(dict(trainset.ur[friend_i]).keys()))\n",
    "\n",
    "    location_ids = location_ids.difference(user_locations)\n",
    "    \n",
    "    # Sample locations visited by friends\n",
    "    if len(location_ids) > max_number_locations:\n",
    "        location_ids = random.sample(location_ids, max_number_locations)\n",
    "        \n",
    "    max_r = -1\n",
    "    # print(\"------- Computation of max r_hat -------\")\n",
    "    for location_id in location_ids: # tqdm(location_ids): \n",
    "        r_hat2 =  social_rating(inner_user_id, location_id, trainset)\n",
    "        if max_r < r_hat2:\n",
    "            max_r = r_hat2\n",
    "    # print(max_r)\n",
    "\n",
    "    r_hat = social_rating(inner_user_id, inner_location_id, trainset)\n",
    "    \n",
    "    p_hat = 0\n",
    "    if max_r != 0:\n",
    "        p_hat = r_hat / max_r\n",
    "    return p_hat"
   ]
  },
  {
   "cell_type": "code",
   "execution_count": 30,
   "metadata": {
    "colab": {
     "base_uri": "https://localhost:8080/",
     "height": 34
    },
    "colab_type": "code",
    "id": "FBExCMZDReim",
    "outputId": "9c238883-b7a4-4328-dcf7-991ebafc8021"
   },
   "outputs": [
    {
     "data": {
      "text/plain": [
       "0.05323633101101231"
      ]
     },
     "execution_count": 30,
     "metadata": {
      "tags": []
     },
     "output_type": "execute_result"
    }
   ],
   "source": [
    "max_number_locations = 100\n",
    "\n",
    "i = 1\t\n",
    "j = 8904\n",
    "social_probability(i, j, X_train)"
   ]
  },
  {
   "cell_type": "markdown",
   "metadata": {
    "colab_type": "text",
    "id": "T6IINuTHQ4RQ"
   },
   "source": [
    "## Number of locations visited by user's friends"
   ]
  },
  {
   "cell_type": "markdown",
   "metadata": {
    "colab_type": "text",
    "id": "bJlZrzMgQvxR"
   },
   "source": [
    "> The normalization term $max_{l_j \\in L-L_i}\\{\\hat{r}_{i,j}\\}$ requires a very long computation time because we have to go through all the locations in the dataset (about 2,724,891 locations). \n",
    "> \n",
    "> But since in the equation of $\\hat{r}_{i,j}$, the rate $\\hat{r}_{k,j}$ is equal to $0$ when the friend $k$ did not visit the location $i$, we can include in $L$ only the places that have been visited at least once by any friend of user $i$.  \n",
    ">\n",
    "> Besides, some users still have too many locations. That's why, we sample these locations as in the previous section."
   ]
  },
  {
   "cell_type": "markdown",
   "metadata": {
    "colab_type": "text",
    "id": "9CnupkNlGJ8g"
   },
   "source": [
    "<a id='genetest'></a>\n",
    "# 5. Generate & Test Recommendations"
   ]
  },
  {
   "cell_type": "code",
   "execution_count": 0,
   "metadata": {
    "colab": {},
    "colab_type": "code",
    "id": "EHmq67oYGJ8h"
   },
   "outputs": [],
   "source": [
    "# Geographical Social Location Recommendation Class\n",
    "class GSLR(AlgoBase):\n",
    "\n",
    "    def __init__(self):\n",
    "        AlgoBase.__init__(self)\n",
    "\n",
    "    def fit(self, trainset):\n",
    "        AlgoBase.fit(self, trainset)\n",
    "        return self\n",
    "\n",
    "    def estimate(self, i, j):\n",
    "        \"\"\" \n",
    "        Generate a recommendation score for a given user and a given location\n",
    "        \n",
    "        Parameters:\n",
    "        ----------\n",
    "        i : int\n",
    "            An inner user id.\n",
    "        j : int\n",
    "            An inner location id.\n",
    "        \n",
    "        Returns:\n",
    "        -------\n",
    "        score : float\n",
    "        \"\"\"\n",
    "        try:\n",
    "            self.trainset.knows_user(i) # self.trainset.knows_user(self.trainset.to_inner_uid(i))\n",
    "            self.trainset.knows_item(j) # self.trainset.knows_item(self.trainset.to_inner_iid(j))\n",
    "            raw_user_id = self.trainset.to_raw_uid(i)\n",
    "            raw_location_id = self.trainset.to_raw_iid(j)\n",
    "        except:\n",
    "            # raise PredictionImpossible('User and/or item is unkown.')\n",
    "            print('User and/or item is unknown.')\n",
    "            return 0\n",
    "      \n",
    "        # Geographical computations\n",
    "        try:\n",
    "            ## Get the list of locations the user has visited\n",
    "            visited_locations_list = locations.set_index('id').loc[df_user_locations.query('userid == @raw_user_id').values[0, 1]][['lng', 'lat']].values\n",
    "            new_location_coord = locations.set_index('id').loc[raw_location_id, ['lng', 'lat']].values\n",
    "            geo_prob = geo_proba(visited_locations_list, new_location_coord)\n",
    "            \n",
    "            # Social computations\n",
    "            social_prob = social_probability(raw_user_id, raw_location_id, self.trainset)\n",
    "        except:\n",
    "            print(\"Unvalid visited location\")\n",
    "            return 0\n",
    "        \n",
    "        \n",
    "        return (social_prob + geo_prob) / 2"
   ]
  },
  {
   "cell_type": "code",
   "execution_count": 45,
   "metadata": {
    "colab": {
     "base_uri": "https://localhost:8080/",
     "height": 34
    },
    "colab_type": "code",
    "id": "PGI2uNL_Tg_F",
    "outputId": "386a73ad-890e-4d44-b2f0-963e178168a6"
   },
   "outputs": [
    {
     "data": {
      "text/plain": [
       "0.015131423250069017"
      ]
     },
     "execution_count": 45,
     "metadata": {
      "tags": []
     },
     "output_type": "execute_result"
    }
   ],
   "source": [
    "max_visited_locations = 100\n",
    "max_number_locations = 100\n",
    "\n",
    "recommender = GSLR()\n",
    "recommender.fit(X_train)\n",
    "\n",
    "i = X_train.to_inner_uid(1)\n",
    "j = X_train.to_inner_iid(8904) \n",
    "recommender.estimate(i, j)"
   ]
  },
  {
   "cell_type": "markdown",
   "metadata": {
    "colab_type": "text",
    "id": "Yp3oqJUmdlzm"
   },
   "source": [
    "## Compute Recall and Precision"
   ]
  },
  {
   "cell_type": "code",
   "execution_count": 0,
   "metadata": {
    "colab": {},
    "colab_type": "code",
    "id": "Z0k0d0QpGJ8v"
   },
   "outputs": [],
   "source": [
    "from collections import defaultdict\n",
    "from surprise.model_selection import KFold\n",
    "\n",
    "\n",
    "def precision_recall_at_k(predictions, k=10, threshold=3.5):\n",
    "    \"\"\" \n",
    "    Compute precision and recall at k metrics for each user\n",
    "\n",
    "    Parameters:\n",
    "    ----------\n",
    "    predictions : A Prediction object \n",
    "    k : int\n",
    "        The top-k highest scores.\n",
    "    threshold : float\n",
    "        Threshold for an item to be considered relevant. \n",
    "    Returns:\n",
    "    -------\n",
    "    precisions, recalls : floats\n",
    "    \"\"\"\n",
    "    # First map the predictions to each user.\n",
    "    user_est_true = defaultdict(list)\n",
    "    for uid, _, true_r, est, _ in predictions:\n",
    "        user_est_true[uid].append((est, true_r))\n",
    "\n",
    "    precisions = dict()\n",
    "    recalls = dict()\n",
    "    for uid, user_ratings in user_est_true.items():\n",
    "\n",
    "        # Sort user ratings by estimated value\n",
    "        user_ratings.sort(key=lambda x: x[0], reverse=True)\n",
    "\n",
    "        # Number of relevant items\n",
    "        n_rel = sum((true_r >= threshold) for (_, true_r) in user_ratings)\n",
    "\n",
    "        # Number of recommended items in top k\n",
    "        n_rec_k = sum((est >= threshold) for (est, _) in user_ratings[:k])\n",
    "\n",
    "        # Number of relevant and recommended items in top k\n",
    "        n_rel_and_rec_k = sum(((true_r >= threshold) and (est >= threshold))\n",
    "                              for (est, true_r) in user_ratings[:k])\n",
    "\n",
    "        # Precision@K: Proportion of recommended items that are relevant\n",
    "        precisions[uid] = n_rel_and_rec_k / n_rec_k if n_rec_k != 0 else 1\n",
    "\n",
    "        # Recall@K: Proportion of relevant items that are recommended\n",
    "        recalls[uid] = n_rel_and_rec_k / n_rel if n_rel != 0 else 1\n",
    "\n",
    "    return precisions, recalls"
   ]
  },
  {
   "cell_type": "code",
   "execution_count": 48,
   "metadata": {
    "colab": {
     "base_uri": "https://localhost:8080/",
     "height": 1000
    },
    "colab_type": "code",
    "id": "-DCF52UHVRXP",
    "outputId": "c907e138-bb2c-49ae-853f-603be569beb2"
   },
   "outputs": [
    {
     "name": "stdout",
     "output_type": "stream",
     "text": [
      "User and/or item is unknown.\n",
      "Unvalid visited location\n",
      "Unvalid visited location\n",
      "Unvalid visited location\n",
      "Unvalid visited location\n",
      "User and/or item is unknown.\n",
      "User and/or item is unknown.\n",
      "User and/or item is unknown.\n",
      "Unvalid visited location\n",
      "Unvalid visited location\n",
      "Unvalid visited location\n",
      "Unvalid visited location\n",
      "User and/or item is unknown.\n",
      "Unvalid visited location\n",
      "Unvalid visited location\n",
      "Unvalid visited location\n",
      "Unvalid visited location\n",
      "Unvalid visited location\n",
      "Unvalid visited location\n",
      "Unvalid visited location\n",
      "User and/or item is unknown.\n",
      "Unvalid visited location\n",
      "Unvalid visited location\n",
      "Unvalid visited location\n",
      "Unvalid visited location\n",
      "User and/or item is unknown.\n",
      "Unvalid visited location\n",
      "User and/or item is unknown.\n",
      "User and/or item is unknown.\n",
      "User and/or item is unknown.\n",
      "Unvalid visited location\n",
      "Unvalid visited location\n",
      "Unvalid visited location\n",
      "User and/or item is unknown.\n",
      "Unvalid visited location\n",
      "Unvalid visited location\n",
      "Unvalid visited location\n",
      "Unvalid visited location\n",
      "Unvalid visited location\n",
      "User and/or item is unknown.\n",
      "Unvalid visited location\n",
      "Unvalid visited location\n",
      "User and/or item is unknown.\n",
      "User and/or item is unknown.\n",
      "User and/or item is unknown.\n",
      "Unvalid visited location\n",
      "User and/or item is unknown.\n",
      "Unvalid visited location\n",
      "User and/or item is unknown.\n",
      "Unvalid visited location\n",
      "Unvalid visited location\n",
      "User and/or item is unknown.\n",
      "Unvalid visited location\n",
      "Unvalid visited location\n",
      "Unvalid visited location\n",
      "Unvalid visited location\n",
      "Unvalid visited location\n",
      "0.9698492462311558\n",
      "1.0\n"
     ]
    }
   ],
   "source": [
    "# Generate recommendations for each user in the test set and get the precision@K and recall@K\n",
    "max_visited_locations = 100\n",
    "max_number_locations = 100\n",
    "testset_size = 200\n",
    "\n",
    "k = 5 # 5, 10, 15\n",
    "\n",
    "# Build model\n",
    "recommender = GSLR()\n",
    "recommender.fit(X_train)\n",
    "\n",
    "# Sample the testset\n",
    "testset_sampled = random.sample(X_test, testset_size)\n",
    "\n",
    "# Predict on test set\n",
    "predictions = recommender.test(testset_sampled)\n",
    "precisions, recalls = precision_recall_at_k(predictions, k=k, threshold=2)\n",
    "\n",
    "# Precision and recall can then be averaged over all users\n",
    "print(sum(prec for prec in precisions.values()) / len(precisions))\n",
    "print(sum(rec for rec in recalls.values()) / len(recalls))"
   ]
  },
  {
   "cell_type": "markdown",
   "metadata": {
    "colab_type": "text",
    "id": "0JYZyydswcNk"
   },
   "source": [
    "> We observe that a large amount of users or items are unknown because they are not in the training set. For instance, out of 100 samples from the testset, there are about 7 scores that cannot be computed. However, the computation still takes a long time even with limited number of locations.\n",
    "> \n",
    "> The parameters we have chosen do not give us realistic results. Indeed, the computed precision@K and recall@K are fairly high which does not seem relevant. Due to limits of computation and time, we were not able to let the algorithm run on the entire dataset in order to get more reliable results."
   ]
  },
  {
   "cell_type": "code",
   "execution_count": 0,
   "metadata": {
    "colab": {
     "base_uri": "https://localhost:8080/",
     "height": 170
    },
    "colab_type": "code",
    "id": "f7alEwAQkaTn",
    "outputId": "f7543481-340c-439d-d527-a7f1a099df53"
   },
   "outputs": [
    {
     "name": "stdout",
     "output_type": "stream",
     "text": [
      "User and/or item is unknown.\n",
      "User and/or item is unknown.\n",
      "User and/or item is unknown.\n",
      "User and/or item is unknown.\n",
      "User and/or item is unknown.\n",
      "User and/or item is unknown.\n",
      "User and/or item is unknown.\n",
      "1.0\n",
      "1.0\n"
     ]
    }
   ],
   "source": [
    "max_visited_locations = 100\n",
    "max_number_locations = 100\n",
    "testset_size = 50\n",
    "\n",
    "k = 5 # [5, 10, 15]\n",
    "\n",
    "kf = KFold(n_splits=3)\n",
    "recommender = GSLR()\n",
    "\n",
    "for trainset, testset in kf.split(df_frequencies_new):\n",
    "    testset_sampled = random.sample(testset, testset_size)\n",
    "\n",
    "    recommender.fit(trainset)\n",
    "    predictions = recommender.test(testset_sampled)\n",
    "    precisions, recalls = precision_recall_at_k(predictions, k=k, threshold=1)\n",
    "\n",
    "    # Precision and recall can then be averaged over all users\n",
    "    print(sum(prec for prec in precisions.values()) / len(precisions))\n",
    "    print(sum(rec for rec in recalls.values()) / len(recalls))"
   ]
  },
  {
   "cell_type": "code",
   "execution_count": 0,
   "metadata": {
    "colab": {},
    "colab_type": "code",
    "id": "kTMyFt13LLsC"
   },
   "outputs": [],
   "source": []
  }
 ],
 "metadata": {
  "colab": {
   "collapsed_sections": [],
   "name": "LBSN_project.ipynb",
   "provenance": []
  },
  "kernelspec": {
   "display_name": "Python 3",
   "language": "python",
   "name": "python3"
  },
  "language_info": {
   "codemirror_mode": {
    "name": "ipython",
    "version": 3
   },
   "file_extension": ".py",
   "mimetype": "text/x-python",
   "name": "python",
   "nbconvert_exporter": "python",
   "pygments_lexer": "ipython3",
   "version": "3.7.4"
  }
 },
 "nbformat": 4,
 "nbformat_minor": 1
}
